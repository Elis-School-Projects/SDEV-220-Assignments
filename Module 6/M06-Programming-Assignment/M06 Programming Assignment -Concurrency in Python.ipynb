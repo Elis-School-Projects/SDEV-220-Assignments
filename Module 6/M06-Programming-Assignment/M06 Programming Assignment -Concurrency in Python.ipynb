{
 "cells": [
  {
   "cell_type": "code",
   "execution_count": 1,
   "id": "989f860d-677c-400e-a971-d5591b0605bf",
   "metadata": {},
   "outputs": [],
   "source": [
    "# Name: Eli Walters\n",
    "# Filename: M06 Programming Assignment -Concurrency in Python.ipynb\n",
    "# Description: Things To Do from Python Text Book. Assignments 13.1, 13.2, 13.3, 15.1"
   ]
  },
  {
   "cell_type": "code",
   "execution_count": 26,
   "id": "c1547e13-67c2-4852-8a0c-aa21f97cff57",
   "metadata": {},
   "outputs": [
    {
     "name": "stdout",
     "output_type": "stream",
     "text": [
      "1713918533.6964421\n"
     ]
    }
   ],
   "source": [
    "# 13.1\n",
    "import time\n",
    "\n",
    "t = time.time() \n",
    "\n",
    "print(t)\n",
    "\n",
    "file = open('today.txt', 'wt')\n",
    "file.write(str(t))\n",
    "file.close()\n",
    "\n",
    "# I wasn't completely sure if this is what it meant by convert the date to a sting, \n",
    "# but 13.3 says to parse the date, so I imagined it would be a readable format, though I could be wrong."
   ]
  },
  {
   "cell_type": "code",
   "execution_count": 27,
   "id": "5f52ade4-85da-43c4-8ceb-8df87578ce11",
   "metadata": {},
   "outputs": [
    {
     "name": "stdout",
     "output_type": "stream",
     "text": [
      "1713918533.6964421\n"
     ]
    }
   ],
   "source": [
    "# 13.2\n",
    "file = open('today.txt', 'rt')\n",
    "today_string = file.read()\n",
    "file.close()\n",
    "\n",
    "print(today_string)"
   ]
  },
  {
   "cell_type": "code",
   "execution_count": 28,
   "id": "07018272-fd82-4ec4-a7a8-e4eb778537d6",
   "metadata": {},
   "outputs": [
    {
     "name": "stdout",
     "output_type": "stream",
     "text": [
      "Tue Apr 23 20:28:53 2024\n"
     ]
    }
   ],
   "source": [
    "# 13.3\n",
    "import time\n",
    "\n",
    "timeOutput = time.ctime(float(today_string))\n",
    "print(timeOutput)"
   ]
  },
  {
   "cell_type": "code",
   "execution_count": 52,
   "id": "e1eb8540-1af7-4c11-8615-988465a35d3c",
   "metadata": {},
   "outputs": [
    {
     "name": "stderr",
     "output_type": "stream",
     "text": [
      "Traceback (most recent call last):\n",
      "Traceback (most recent call last):\n",
      "  File \"<string>\", line 1, in <module>\n",
      "  File \"/opt/anaconda3/lib/python3.11/multiprocessing/spawn.py\", line 122, in spawn_main\n",
      "  File \"<string>\", line 1, in <module>\n",
      "  File \"/opt/anaconda3/lib/python3.11/multiprocessing/spawn.py\", line 122, in spawn_main\n",
      "Traceback (most recent call last):\n",
      "  File \"<string>\", line 1, in <module>\n",
      "  File \"/opt/anaconda3/lib/python3.11/multiprocessing/spawn.py\", line 122, in spawn_main\n",
      "    exitcode = _main(fd, parent_sentinel)\n",
      "               ^^^^^^^^^^^^^^^^^^^^^^^^^^\n",
      "  File \"/opt/anaconda3/lib/python3.11/multiprocessing/spawn.py\", line 132, in _main\n",
      "    exitcode = _main(fd, parent_sentinel)\n",
      "               ^^^^^^^^^^^^^^^^^^^^^^^^^^\n",
      "  File \"/opt/anaconda3/lib/python3.11/multiprocessing/spawn.py\", line 132, in _main\n",
      "    self = reduction.pickle.load(from_parent)\n",
      "    exitcode = _main(fd, parent_sentinel)\n",
      "           ^^^^^^^^^^^^^^^^^^^^^^^^^^^^^^^^^^\n",
      "AttributeError: Can't get attribute 'myFunction' on <module '__main__' (built-in)>\n",
      "               ^^^^^^^^^^^^^^^^^^^^^^^^^^\n",
      "  File \"/opt/anaconda3/lib/python3.11/multiprocessing/spawn.py\", line 132, in _main\n",
      "    self = reduction.pickle.load(from_parent)\n",
      "           ^^^^^^^^^^^^^^^^^^^^^^^^^^^^^^^^^^\n",
      "AttributeError: Can't get attribute 'myFunction' on <module '__main__' (built-in)>\n",
      "    self = reduction.pickle.load(from_parent)\n",
      "           ^^^^^^^^^^^^^^^^^^^^^^^^^^^^^^^^^^\n",
      "AttributeError: Can't get attribute 'myFunction' on <module '__main__' (built-in)>\n"
     ]
    }
   ],
   "source": [
    "# 15.1\n",
    "import multiprocessing\n",
    "import random\n",
    "import time\n",
    "\n",
    "def myFunction(n):\n",
    "    time.sleep(random.random())\n",
    "    t = time.time()\n",
    "    print(f\"Proccess {n}: The current time is {time.ctime(t)}\")\n",
    "\n",
    "if __name__ == \"__main__\":\n",
    "    for n in range(3):\n",
    "        p = multiprocessing.Process(target=myFunction, args=(str(n)))\n",
    "        p.start()"
   ]
  },
  {
   "cell_type": "code",
   "execution_count": 55,
   "id": "c166b351-d9b9-43ab-b22c-538ac9c0f83d",
   "metadata": {},
   "outputs": [
    {
     "name": "stdout",
     "output_type": "stream",
     "text": [
      "Process 92966 says: I'm the main program\n",
      "Process 92966 says: 0\n",
      "Process 92966 says: 1\n",
      "Process 92966 says: 2\n",
      "Process 92966 says: 3\n"
     ]
    }
   ],
   "source": [
    "import multiprocessing\n",
    "import os\n",
    "\n",
    "def whoami(what):\n",
    "    print(\"Process %s says: %s\" % (os.getpid(), what))\n",
    "\n",
    "if __name__ == \"__main__\":\n",
    "    whoami(\"I'm the main program\")\n",
    "    for n in range(4):\n",
    "        p = multiprocessing.Process(target=whoami(n),\n",
    "          args=(\"I'm function %s\" % n,))\n",
    "        p.start()"
   ]
  }
 ],
 "metadata": {
  "kernelspec": {
   "display_name": "Python 3 (ipykernel)",
   "language": "python",
   "name": "python3"
  },
  "language_info": {
   "codemirror_mode": {
    "name": "ipython",
    "version": 3
   },
   "file_extension": ".py",
   "mimetype": "text/x-python",
   "name": "python",
   "nbconvert_exporter": "python",
   "pygments_lexer": "ipython3",
   "version": "3.11.7"
  }
 },
 "nbformat": 4,
 "nbformat_minor": 5
}
