{
 "cells": [
  {
   "cell_type": "code",
   "execution_count": 3,
   "id": "42786239-156f-4fa4-a5f4-d478feb4718c",
   "metadata": {},
   "outputs": [
    {
     "name": "stdout",
     "output_type": "stream",
     "text": [
      "just right\n"
     ]
    }
   ],
   "source": [
    "# 4.1\n",
    "secret = 5\n",
    "guess = 5\n",
    "\n",
    "if guess == secret:\n",
    "    print(\"just right\")\n",
    "elif guess < secret:\n",
    "    print(\"too low\")\n",
    "elif guess > secret:\n",
    "    print(\"too high\")"
   ]
  },
  {
   "cell_type": "code",
   "execution_count": 6,
   "id": "beb3d3ed-ba9a-4211-8db7-88d381b36c88",
   "metadata": {},
   "outputs": [
    {
     "name": "stdout",
     "output_type": "stream",
     "text": [
      "It's a watermelon!\n"
     ]
    }
   ],
   "source": [
    "# 4.2\n",
    "small = False\n",
    "green = True\n",
    "\n",
    "if small:\n",
    "    if green:\n",
    "        print(\"It's a pea!\")\n",
    "    else:\n",
    "        print(\"It's a cherry!\")\n",
    "else:\n",
    "    if green:\n",
    "        print(\"It's a watermelon!\")\n",
    "    else:\n",
    "        print(\"It's a pumpkin!\")"
   ]
  },
  {
   "cell_type": "code",
   "execution_count": 7,
   "id": "2502bdf1-ca21-43ea-a666-290f79ca506c",
   "metadata": {},
   "outputs": [
    {
     "name": "stdout",
     "output_type": "stream",
     "text": [
      "3\n",
      "2\n",
      "1\n",
      "0\n"
     ]
    }
   ],
   "source": [
    "# 6.1\n",
    "list = [3, 2, 1, 0]\n",
    "\n",
    "for number in list:\n",
    "    print(number)"
   ]
  },
  {
   "cell_type": "code",
   "execution_count": 10,
   "id": "03bbf854-f97c-4bb6-b5b4-cd6b1cfda3c9",
   "metadata": {},
   "outputs": [
    {
     "name": "stdout",
     "output_type": "stream",
     "text": [
      "1 is too low\n",
      "2 is too low\n",
      "3 is too low\n",
      "4 is too low\n",
      "5 is too low\n",
      "6 is too low\n",
      "7! found it!\n"
     ]
    }
   ],
   "source": [
    "# 6.2\n",
    "guess_me = 7\n",
    "number = 1\n",
    "\n",
    "while True:\n",
    "    if number < guess_me:\n",
    "        print(f\"{number} is too low\")\n",
    "    elif number == guess_me:\n",
    "        print(f\"{number}! found it!\")\n",
    "        break\n",
    "    elif number > guess_me:\n",
    "        print(f\"{number} oops\")\n",
    "        break\n",
    "    number += 1\n",
    "    "
   ]
  },
  {
   "cell_type": "code",
   "execution_count": 12,
   "id": "d8c36e2c-9e59-4526-a130-389e956a7c9a",
   "metadata": {},
   "outputs": [
    {
     "name": "stdout",
     "output_type": "stream",
     "text": [
      "0 is too low\n",
      "1 is too low\n",
      "2 is too low\n",
      "3 is too low\n",
      "4 is too low\n",
      "5! found it!\n"
     ]
    }
   ],
   "source": [
    "# 6.3\n",
    "guess_me = 5\n",
    "for number in range(10):\n",
    "    if number < guess_me:\n",
    "        print(f\"{number} is too low\")\n",
    "    elif number == guess_me:\n",
    "        print(f\"{number}! found it!\")\n",
    "        break\n",
    "    elif number > guess_me:\n",
    "        print(f\"{number} oops\")\n",
    "        break"
   ]
  },
  {
   "cell_type": "code",
   "execution_count": null,
   "id": "3ec9951c-09f4-4a78-ba19-8630b21893d8",
   "metadata": {},
   "outputs": [],
   "source": []
  }
 ],
 "metadata": {
  "kernelspec": {
   "display_name": "Python 3 (ipykernel)",
   "language": "python",
   "name": "python3"
  },
  "language_info": {
   "codemirror_mode": {
    "name": "ipython",
    "version": 3
   },
   "file_extension": ".py",
   "mimetype": "text/x-python",
   "name": "python",
   "nbconvert_exporter": "python",
   "pygments_lexer": "ipython3",
   "version": "3.11.7"
  }
 },
 "nbformat": 4,
 "nbformat_minor": 5
}
