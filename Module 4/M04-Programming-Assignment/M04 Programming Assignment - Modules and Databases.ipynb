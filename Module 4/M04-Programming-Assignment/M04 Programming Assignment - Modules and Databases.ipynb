{
 "cells": [
  {
   "cell_type": "code",
   "execution_count": 1,
   "id": "090bcd0c-c166-4d0e-847b-738bf8975638",
   "metadata": {},
   "outputs": [],
   "source": [
    "# Name: Eli Walters\n",
    "# File name: M04 Programming Assignment - Modules and Databases.ipynb\n",
    "# Description: Assignments for the Things to Do section of chapter 11 and chapter 16."
   ]
  },
  {
   "cell_type": "code",
   "execution_count": 4,
   "id": "eeea0af7-bf41-4867-90f7-5dc51aa60931",
   "metadata": {},
   "outputs": [],
   "source": [
    "# 11.1\n",
    "# Moved to zoo.py file to be able to be imported."
   ]
  },
  {
   "cell_type": "code",
   "execution_count": 6,
   "id": "b578a2b2-c27a-4c33-9159-3115f69adf07",
   "metadata": {},
   "outputs": [
    {
     "name": "stdout",
     "output_type": "stream",
     "text": [
      "Open 9-5 Daily\n"
     ]
    }
   ],
   "source": [
    "# 11.2\n",
    "import zoo as menagerie\n",
    "\n",
    "menagerie.hours()"
   ]
  },
  {
   "cell_type": "code",
   "execution_count": 4,
   "id": "54153b0b-997d-4d83-a755-068fb9082f93",
   "metadata": {},
   "outputs": [],
   "source": [
    "# 16.3 - 16.7 (PreReq to 16.8)\n",
    "import sqlite3\n",
    "import csv\n",
    "\n",
    "# Create Database Connecton w/ sqlite3\n",
    "conn = sqlite3.connect('books.db')\n",
    "curs = conn.cursor()\n",
    "\n",
    "# Delete Previous Table from Database\n",
    "curs.execute('DROP TABLE books')\n",
    "\n",
    "# Create new books table\n",
    "curs.execute('''CREATE TABLE books\n",
    "    (title VARCHAR(20) PRIMARY KEY,\n",
    "     author VARCHAR(20),\n",
    "     year INT)''')\n",
    "\n",
    "# Insert data from books2.csv into the books table\n",
    "with open('books2.csv', 'rt') as fin:\n",
    "    cin = csv.reader(fin)\n",
    "    for row in cin:\n",
    "        curs.execute(f'INSERT INTO books (title, author, year) VALUES(\"{row[0]}\", \"{row[1]}\", \"{row[2]}\")')"
   ]
  },
  {
   "cell_type": "code",
   "execution_count": 2,
   "id": "1e36b8e2-c158-4498-954e-5b3852bffec7",
   "metadata": {},
   "outputs": [
    {
     "name": "stdout",
     "output_type": "stream",
     "text": [
      "('Perdido Street Station', 'China MiÃ©ville', 2000)\n",
      "('Small Gods', 'Terry Pratchett', 1992)\n",
      "('The Spellman Files', 'Lisa Lutz', 2007)\n",
      "('The Weirdstone of Brisingamen', 'Alan Garner', 1960)\n",
      "('Thud!', 'Terry Pratchett', 2005)\n"
     ]
    }
   ],
   "source": [
    "# 16.8\n",
    "import sqlalchemy as sa\n",
    "import csv\n",
    "\n",
    "# Create Database Connection w/ sqlalchemy\n",
    "engine = sa.create_engine('sqlite:///books.db')\n",
    "\n",
    "with engine.connect() as conn:\n",
    "    # Insert data from books2.csv into the books table\n",
    "    with open('books2.csv', 'rt') as fin:\n",
    "        cin = csv.reader(fin)\n",
    "        for row in cin:\n",
    "            conn.execute(sa.text(f'INSERT INTO books (title, author, year) VALUES(\"{row[0]}\", \"{row[1]}\", \"{row[2]}\")'))\n",
    "    \n",
    "    rows = conn.execute(sa.text('SELECT * FROM books ORDER BY title'))\n",
    "    \n",
    "    for row in rows:\n",
    "        print(row)\n",
    "\n",
    "    conn.close()"
   ]
  },
  {
   "cell_type": "code",
   "execution_count": null,
   "id": "25e8e5ef-e616-4e04-b16e-2bd8dee5958b",
   "metadata": {},
   "outputs": [],
   "source": []
  }
 ],
 "metadata": {
  "kernelspec": {
   "display_name": "Python 3 (ipykernel)",
   "language": "python",
   "name": "python3"
  },
  "language_info": {
   "codemirror_mode": {
    "name": "ipython",
    "version": 3
   },
   "file_extension": ".py",
   "mimetype": "text/x-python",
   "name": "python",
   "nbconvert_exporter": "python",
   "pygments_lexer": "ipython3",
   "version": "3.11.7"
  }
 },
 "nbformat": 4,
 "nbformat_minor": 5
}
