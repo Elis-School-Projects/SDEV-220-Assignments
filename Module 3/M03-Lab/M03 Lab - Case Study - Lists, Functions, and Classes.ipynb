{
 "cells": [
  {
   "cell_type": "code",
   "execution_count": 1,
   "id": "fe5616a2-96c1-4560-8604-52d111408c7b",
   "metadata": {},
   "outputs": [],
   "source": [
    "# Name: Eli Walters\n",
    "# File: M03 Lab - Case Study - Lists, Functions, and Classes.ipynb\n",
    "# Description: "
   ]
  },
  {
   "cell_type": "code",
   "execution_count": 7,
   "id": "2ddc5472-1e67-4232-989a-256b8e4746d3",
   "metadata": {},
   "outputs": [
    {
     "name": "stdin",
     "output_type": "stream",
     "text": [
      "What type of vehicle are you entering? (car/truck/plane/boat/broomstick)  car\n",
      "What year is the car from?  2002\n",
      "What manufacture made the car?  Ford\n",
      "What model is the car?  F250\n",
      "How many doors does the vehicle have? (2/4)  4\n",
      "Does the car have a solid or sun roof? (solid roof/sun roof)  solid roof\n"
     ]
    },
    {
     "name": "stdout",
     "output_type": "stream",
     "text": [
      "\n",
      "Vehicle type: car\n",
      "Year: 2002\n",
      "Make: Ford\n",
      "Model: F250\n",
      "Number of Doors: 4\n",
      "Type of Roof: solid roof\n"
     ]
    }
   ],
   "source": [
    "class Vehicle():\n",
    "    def __init__(self, type):\n",
    "        self.type = type\n",
    "\n",
    "class Automobile(Vehicle):\n",
    "    def __init__(self, type, year, make, model, doors, roof):\n",
    "        super().__init__(type)\n",
    "        self.year = year\n",
    "        self.make = make\n",
    "        self.model = model\n",
    "        self.doors = doors\n",
    "        self.roof = roof\n",
    "\n",
    "type = input(\"What type of vehicle are you entering? (car/truck/plane/boat/broomstick) \")\n",
    "if type == \"car\":\n",
    "    year = input(\"What year is the car from? \")\n",
    "    make = input(\"What manufacture made the car? \")\n",
    "    model = input(\"What model is the car? \")\n",
    "    doors = input(\"How many doors does the vehicle have? (2/4) \")\n",
    "    roof = input(\"Does the car have a solid or sun roof? (solid roof/sun roof) \")\n",
    "\n",
    "    car = Automobile(type, year, make, model, doors, roof)\n",
    "\n",
    "    print(\"\")\n",
    "    print(f\"Vehicle type: {car.type}\")\n",
    "    print(f\"Year: {car.year}\")\n",
    "    print(f\"Make: {car.make}\")\n",
    "    print(f\"Model: {car.model}\")\n",
    "    print(f\"Number of Doors: {car.doors}\")\n",
    "    print(f\"Type of Roof: {car.roof}\")\n",
    "else:\n",
    "    print(\"Vehicle type must be a car.\")"
   ]
  },
  {
   "cell_type": "code",
   "execution_count": null,
   "id": "4bbadf9e-e26a-4064-a296-c814b175f7d2",
   "metadata": {},
   "outputs": [],
   "source": []
  }
 ],
 "metadata": {
  "kernelspec": {
   "display_name": "Python 3 (ipykernel)",
   "language": "python",
   "name": "python3"
  },
  "language_info": {
   "codemirror_mode": {
    "name": "ipython",
    "version": 3
   },
   "file_extension": ".py",
   "mimetype": "text/x-python",
   "name": "python",
   "nbconvert_exporter": "python",
   "pygments_lexer": "ipython3",
   "version": "3.11.7"
  }
 },
 "nbformat": 4,
 "nbformat_minor": 5
}
