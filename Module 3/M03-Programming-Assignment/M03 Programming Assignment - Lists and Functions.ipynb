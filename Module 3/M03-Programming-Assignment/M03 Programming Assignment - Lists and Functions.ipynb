{
 "cells": [
  {
   "cell_type": "code",
   "execution_count": 1,
   "id": "44ade194-6128-4bd2-b72c-6b817ac237ad",
   "metadata": {},
   "outputs": [],
   "source": [
    "# Name: Eli Walters\n",
    "# File Name: M03 Programming Assignment - Lists and Functions.ipynb\n",
    "# Description: Collection of assignments from chapters 7 and 9 including 7.4, 7.5, 7.6, 7.7, 9.1, and 9.2."
   ]
  },
  {
   "cell_type": "code",
   "execution_count": 11,
   "id": "90b9eb32-9885-4f14-a930-5c546ad53401",
   "metadata": {},
   "outputs": [],
   "source": [
    "# 7.4\n",
    "things = [\"mozzarella\", \"cinderella\", \"salmonella\"]"
   ]
  },
  {
   "cell_type": "code",
   "execution_count": 12,
   "id": "b6d8aa40-da32-47fc-8723-94f96912e743",
   "metadata": {},
   "outputs": [
    {
     "name": "stdout",
     "output_type": "stream",
     "text": [
      "['mozzarella', 'cinderella', 'salmonella']\n"
     ]
    }
   ],
   "source": [
    "# 7.5\n",
    "\n",
    "# Q: Did it change the element in the list?\n",
    "# A: Just using the function on the word in the list did not change it, as you would need to rename the item using =.\n",
    "\n",
    "things[1].upper()\n",
    "print(things)"
   ]
  },
  {
   "cell_type": "code",
   "execution_count": 13,
   "id": "6a800a3f-a4f3-4439-91ce-2e765fed081b",
   "metadata": {},
   "outputs": [
    {
     "name": "stdout",
     "output_type": "stream",
     "text": [
      "['MOZZARELLA', 'cinderella', 'salmonella']\n"
     ]
    }
   ],
   "source": [
    "# 7.6\n",
    "things[0] = things[0].upper()\n",
    "print(things)"
   ]
  },
  {
   "cell_type": "code",
   "execution_count": 15,
   "id": "b9eaffd7-5636-4d31-a0f7-f3a24127844f",
   "metadata": {},
   "outputs": [
    {
     "name": "stdout",
     "output_type": "stream",
     "text": [
      "['MOZZARELLA', 'cinderella']\n"
     ]
    }
   ],
   "source": [
    "# 7.7\n",
    "del things[2]\n",
    "print(things)"
   ]
  },
  {
   "cell_type": "code",
   "execution_count": 19,
   "id": "ef7ce7d9-51ba-4791-8a89-472ab18a402f",
   "metadata": {},
   "outputs": [
    {
     "name": "stdout",
     "output_type": "stream",
     "text": [
      "['Harry', 'Ron', 'Hermione']\n"
     ]
    }
   ],
   "source": [
    "# 9.1\n",
    "def good():\n",
    "    return ['Harry', 'Ron', 'Hermione']\n",
    "\n",
    "print(good())"
   ]
  },
  {
   "cell_type": "code",
   "execution_count": 41,
   "id": "dfda2529-8297-4072-b1a0-4ed412cce895",
   "metadata": {},
   "outputs": [
    {
     "name": "stdout",
     "output_type": "stream",
     "text": [
      "5\n"
     ]
    }
   ],
   "source": [
    "# 9.2\n",
    "\n",
    "# Create Generator Function for Odd Numbers\n",
    "def get_odds(first=0, last=10, step=1):\n",
    "    number = first\n",
    "    while number < last:\n",
    "        if number % 2 != 0:\n",
    "            yield number\n",
    "        number += step\n",
    "\n",
    "# Add All Returned Numbers to a List\n",
    "returnedNumbers = []\n",
    "for num in get_odds():\n",
    "    returnedNumbers.append(num)\n",
    "\n",
    "# Print the 3rd Item in the List\n",
    "print(returnedNumbers[2])"
   ]
  },
  {
   "cell_type": "code",
   "execution_count": null,
   "id": "a6d2dc5e-e42f-43ce-accc-eca3817c3fdb",
   "metadata": {},
   "outputs": [],
   "source": []
  }
 ],
 "metadata": {
  "kernelspec": {
   "display_name": "Python 3 (ipykernel)",
   "language": "python",
   "name": "python3"
  },
  "language_info": {
   "codemirror_mode": {
    "name": "ipython",
    "version": 3
   },
   "file_extension": ".py",
   "mimetype": "text/x-python",
   "name": "python",
   "nbconvert_exporter": "python",
   "pygments_lexer": "ipython3",
   "version": "3.11.7"
  }
 },
 "nbformat": 4,
 "nbformat_minor": 5
}
