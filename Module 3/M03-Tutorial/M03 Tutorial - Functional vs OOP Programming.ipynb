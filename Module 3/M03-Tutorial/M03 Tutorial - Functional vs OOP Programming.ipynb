{
 "cells": [
  {
   "cell_type": "code",
   "execution_count": 1,
   "id": "e4c3af61-827f-4168-9556-d186e293afda",
   "metadata": {},
   "outputs": [],
   "source": [
    "# Sort an array of 0s, 1s and 2s\n",
    "class Solution:\n",
    "    def sort012(self,arr,n):\n",
    "        return arr.sort()"
   ]
  },
  {
   "cell_type": "code",
   "execution_count": 7,
   "id": "fe0e2227-4014-4047-8459-364b19b64c8a",
   "metadata": {},
   "outputs": [],
   "source": [
    "# Binary Search\n",
    "class Solution:\t\n",
    "    def binarysearch(self, arr, n, k):\n",
    "        index = 0\n",
    "        for num in arr:\n",
    "            if num == k:\n",
    "                 return index\n",
    "\t\t        \n",
    "            index += 1\n",
    "\t\t    \n",
    "            if index >= n:\n",
    "                return -1"
   ]
  },
  {
   "cell_type": "code",
   "execution_count": null,
   "id": "16e7625e-ba59-4523-b12d-e72e3def19ab",
   "metadata": {},
   "outputs": [],
   "source": []
  }
 ],
 "metadata": {
  "kernelspec": {
   "display_name": "Python 3 (ipykernel)",
   "language": "python",
   "name": "python3"
  },
  "language_info": {
   "codemirror_mode": {
    "name": "ipython",
    "version": 3
   },
   "file_extension": ".py",
   "mimetype": "text/x-python",
   "name": "python",
   "nbconvert_exporter": "python",
   "pygments_lexer": "ipython3",
   "version": "3.11.7"
  }
 },
 "nbformat": 4,
 "nbformat_minor": 5
}
